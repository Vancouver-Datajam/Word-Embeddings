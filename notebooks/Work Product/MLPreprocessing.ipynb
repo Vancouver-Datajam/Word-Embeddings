{
  "cells": [
    {
      "cell_type": "code",
      "execution_count": null,
      "metadata": {
        "id": "3pTBq6gOOeDL"
      },
      "outputs": [],
      "source": [
        "# Author: Grace\n",
        "# Import Libraries and Dataset\n",
        "\n",
        "import numpy as np\n",
        "import pandas as pd\n",
        "from bs4 import BeautifulSoup\n",
        "import re\n",
        "\n",
        "# Sample data from https://www.kaggle.com/datasets/gpreda/covid19-tweets?resource=download\n",
        "df = pd.read_csv('covid19_tweets.csv')"
      ]
    },
    {
      "cell_type": "code",
      "execution_count": null,
      "metadata": {
        "id": "bEMkLdBn7T-2"
      },
      "outputs": [],
      "source": [
        "# Remove Links\n",
        "\n",
        "df[\"clean_text\"] = df[\"text\"].apply(lambda s: ' '.join(re.sub(\"(w+://S+)\", \" \", s).split()))\n",
        "df[['text','clean_text']].iloc[94807]"
      ]
    },
    {
      "cell_type": "code",
      "execution_count": null,
      "metadata": {
        "id": "BuaO0A4dP8r4"
      },
      "outputs": [],
      "source": [
        "# Remove Punctuations\n",
        "\n",
        "df[\"clean_text\"] = df[\"clean_text\"].apply(lambda s: ' '.join(re.sub(\"[.,!?:;-='...@#\\\"_]\", \" \", s).split()))\n",
        "df[[\"text\",\"clean_text\"]]"
      ]
    },
    {
      "cell_type": "code",
      "execution_count": null,
      "metadata": {
        "id": "Kjkx4seWP4lK"
      },
      "outputs": [],
      "source": [
        "# Remove Numbers\n",
        "\n",
        "df[\"clean_text\"].replace('d+', '', regex=True, inplace=True)\n",
        "df[[\"text\",\"clean_text\"]]"
      ]
    },
    {
      "cell_type": "code",
      "execution_count": null,
      "metadata": {
        "id": "nQKWjzClP0J5"
      },
      "outputs": [],
      "source": [
        "# Remove Emojis\n",
        "\n",
        "def deEmojify(inputString):\n",
        "    return inputString.encode('ascii', 'ignore').decode('ascii')\n",
        "df[\"clean_text\"] = df[\"clean_text\"].apply(lambda s: deEmojify(s))\n",
        "df[['text','clean_text']].iloc[12]"
      ]
    },
    {
      "cell_type": "code",
      "execution_count": null,
      "metadata": {
        "id": "LLWo_6cPPVPp"
      },
      "outputs": [],
      "source": [
        "# Remove stop words\n",
        "\n",
        "import nltk\n",
        "from nltk.corpus import stopwords\n",
        "nltk.download('stopwords')\n",
        "\n",
        "stop = set(stopwords.words('english'))\n",
        "\n",
        "def rem_en(input_txt):\n",
        "    words = input_txt.lower().split()\n",
        "    noise_free_words = [word for word in words if word not in stop]\n",
        "    noise_free_text = \" \".join(noise_free_words)\n",
        "    return noise_free_text\n",
        "df[\"clean_text\"] = df[\"clean_text\"].apply(lambda s: rem_en(s))\n",
        "df[[\"text\",\"clean_text\"]]"
      ]
    },
    {
      "cell_type": "code",
      "execution_count": null,
      "metadata": {
        "id": "Mm3XLh8eOpAC"
      },
      "outputs": [],
      "source": [
        "# Tokenization\n",
        "\n",
        "from nltk.tokenize import RegexpTokenizer\n",
        "tokeniser = RegexpTokenizer(r'w+')\n",
        "df[\"clean_text\"] = df[\"clean_text\"].apply(lambda x: tokeniser.tokenize(x))\n",
        "df[[\"text\",\"clean_text\"]]"
      ]
    }
  ],
  "metadata": {
    "colab": {
      "provenance": []
    },
    "kernelspec": {
      "display_name": "Python 3",
      "name": "python3"
    },
    "language_info": {
      "name": "python"
    }
  },
  "nbformat": 4,
  "nbformat_minor": 0
}
